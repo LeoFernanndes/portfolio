{
  "nbformat": 4,
  "nbformat_minor": 0,
  "metadata": {
    "colab": {
      "name": "MachineFailuresModelling.ipynb",
      "provenance": [],
      "collapsed_sections": [],
      "authorship_tag": "ABX9TyPms4OpkXZj0vmVt8GmdyFx",
      "include_colab_link": true
    },
    "kernelspec": {
      "name": "python3",
      "display_name": "Python 3"
    },
    "language_info": {
      "name": "python"
    }
  },
  "cells": [
    {
      "cell_type": "markdown",
      "metadata": {
        "id": "view-in-github",
        "colab_type": "text"
      },
      "source": [
        "<a href=\"https://colab.research.google.com/github/LeoFernanndes/portfolio/blob/master/MachineFailuresModelling.ipynb\" target=\"_parent\"><img src=\"https://colab.research.google.com/assets/colab-badge.svg\" alt=\"Open In Colab\"/></a>"
      ]
    },
    {
      "cell_type": "markdown",
      "metadata": {
        "id": "XsUfqqhrJK7M"
      },
      "source": [
        "# Machine Failures Modelling "
      ]
    },
    {
      "cell_type": "markdown",
      "metadata": {
        "id": "jqzdKjOEJTSS"
      },
      "source": [
        "Seguindo a análise exploratória de dados disponível em: https://github.com/LeoFernanndes/portfolio/blob/master/MachineFailuresEDA.ipynb, passamos à modelagem preditiva de falhas.\n",
        "\n",
        "Pontos relevantes enontrados na EDA: de todas as variáveis apresentadas no problema, nos parece plausível que ao menso 90% da explicabilidade da ocorrência de falhas em operação sejam suportados por temperatura, humidade e tempo decorrido desde a última falha."
      ]
    },
    {
      "cell_type": "markdown",
      "metadata": {
        "id": "OhnbqbPpnE17"
      },
      "source": [
        "Resumo: Passando por um modelo baseline linear pra checar a dúvida levantada na primeira parte o trabalho, seguido de um modelo baseline de verdade, baseado em árvores e 3 opçãoes de melhoria nos resultados, percebemos que não há grandes avanços com relação ao baseline baseado em árvores. Nossa ideia inicial de aumentar a confiabilidade foi satisfeita observando medias e desvios padrão das previsões em 5 splits randomizadas pelo mesmo seed. Fica um pouco complexo avaliar qual técnica de otimização trouxe melhores resultados. Seria necessaria uma investigação de base estatística um pouco mais avançada para ponderar os efeitos de aleatoriedade sobre a diferença entre featre selection e ajuste de hiperparâmetros por exemplo, mas saímos com uma f1 score que gira em torno de 0.82 para um problema extremamente desbalanceado o que nos parece uma solução de primeira ordem suficientemente interessante."
      ]
    },
    {
      "cell_type": "code",
      "metadata": {
        "colab": {
          "base_uri": "https://localhost:8080/",
          "height": 842
        },
        "id": "-OW7_yI1IGFW",
        "outputId": "3442559b-deff-4083-fd57-536abdf302e4"
      },
      "source": [
        "import pandas as pd\n",
        "import seaborn as sns\n",
        "import matplotlib.pyplot as plt\n",
        "\n",
        "\n",
        "raw_data_url = \"https://raw.githubusercontent.com/LeoFernanndes/datasets/master/dataset-machine_failures.csv\"\n",
        "raw_data = pd.read_csv(raw_data_url)\n",
        "raw_data"
      ],
      "execution_count": 1,
      "outputs": [
        {
          "output_type": "execute_result",
          "data": {
            "text/html": [
              "<div>\n",
              "<style scoped>\n",
              "    .dataframe tbody tr th:only-of-type {\n",
              "        vertical-align: middle;\n",
              "    }\n",
              "\n",
              "    .dataframe tbody tr th {\n",
              "        vertical-align: top;\n",
              "    }\n",
              "\n",
              "    .dataframe thead th {\n",
              "        text-align: right;\n",
              "    }\n",
              "</style>\n",
              "<table border=\"1\" class=\"dataframe\">\n",
              "  <thead>\n",
              "    <tr style=\"text-align: right;\">\n",
              "      <th></th>\n",
              "      <th>Date</th>\n",
              "      <th>Temperature</th>\n",
              "      <th>Humidity</th>\n",
              "      <th>Operator</th>\n",
              "      <th>Measure1</th>\n",
              "      <th>Measure2</th>\n",
              "      <th>Measure3</th>\n",
              "      <th>Measure4</th>\n",
              "      <th>Measure5</th>\n",
              "      <th>Measure6</th>\n",
              "      <th>Measure7</th>\n",
              "      <th>Measure8</th>\n",
              "      <th>Measure9</th>\n",
              "      <th>Measure10</th>\n",
              "      <th>Measure11</th>\n",
              "      <th>Measure12</th>\n",
              "      <th>Measure13</th>\n",
              "      <th>Measure14</th>\n",
              "      <th>Measure15</th>\n",
              "      <th>Hours Since Previous Failure</th>\n",
              "      <th>Failure</th>\n",
              "      <th>﻿Date.year</th>\n",
              "      <th>﻿Date.month</th>\n",
              "      <th>﻿Date.day-of-month</th>\n",
              "      <th>﻿Date.day-of-week</th>\n",
              "      <th>﻿Date.hour</th>\n",
              "      <th>﻿Date.minute</th>\n",
              "      <th>﻿Date.second</th>\n",
              "    </tr>\n",
              "  </thead>\n",
              "  <tbody>\n",
              "    <tr>\n",
              "      <th>0</th>\n",
              "      <td>2016-01-01 00:00:00</td>\n",
              "      <td>67</td>\n",
              "      <td>82</td>\n",
              "      <td>Operator1</td>\n",
              "      <td>291</td>\n",
              "      <td>1</td>\n",
              "      <td>1</td>\n",
              "      <td>1041</td>\n",
              "      <td>846</td>\n",
              "      <td>334</td>\n",
              "      <td>706</td>\n",
              "      <td>1086</td>\n",
              "      <td>256</td>\n",
              "      <td>1295</td>\n",
              "      <td>766</td>\n",
              "      <td>968</td>\n",
              "      <td>1185</td>\n",
              "      <td>1355</td>\n",
              "      <td>1842</td>\n",
              "      <td>90</td>\n",
              "      <td>No</td>\n",
              "      <td>2016</td>\n",
              "      <td>1</td>\n",
              "      <td>1</td>\n",
              "      <td>5</td>\n",
              "      <td>0</td>\n",
              "      <td>0</td>\n",
              "      <td>0</td>\n",
              "    </tr>\n",
              "    <tr>\n",
              "      <th>1</th>\n",
              "      <td>2016-01-01 01:00:00</td>\n",
              "      <td>68</td>\n",
              "      <td>77</td>\n",
              "      <td>Operator1</td>\n",
              "      <td>1180</td>\n",
              "      <td>1</td>\n",
              "      <td>1</td>\n",
              "      <td>1915</td>\n",
              "      <td>1194</td>\n",
              "      <td>637</td>\n",
              "      <td>1093</td>\n",
              "      <td>524</td>\n",
              "      <td>919</td>\n",
              "      <td>245</td>\n",
              "      <td>403</td>\n",
              "      <td>723</td>\n",
              "      <td>1446</td>\n",
              "      <td>719</td>\n",
              "      <td>748</td>\n",
              "      <td>91</td>\n",
              "      <td>No</td>\n",
              "      <td>2016</td>\n",
              "      <td>1</td>\n",
              "      <td>1</td>\n",
              "      <td>5</td>\n",
              "      <td>1</td>\n",
              "      <td>0</td>\n",
              "      <td>0</td>\n",
              "    </tr>\n",
              "    <tr>\n",
              "      <th>2</th>\n",
              "      <td>2016-01-01 02:00:00</td>\n",
              "      <td>64</td>\n",
              "      <td>76</td>\n",
              "      <td>Operator1</td>\n",
              "      <td>1406</td>\n",
              "      <td>1</td>\n",
              "      <td>1</td>\n",
              "      <td>511</td>\n",
              "      <td>1577</td>\n",
              "      <td>1121</td>\n",
              "      <td>1948</td>\n",
              "      <td>1882</td>\n",
              "      <td>1301</td>\n",
              "      <td>273</td>\n",
              "      <td>1927</td>\n",
              "      <td>1123</td>\n",
              "      <td>717</td>\n",
              "      <td>1518</td>\n",
              "      <td>1689</td>\n",
              "      <td>92</td>\n",
              "      <td>No</td>\n",
              "      <td>2016</td>\n",
              "      <td>1</td>\n",
              "      <td>1</td>\n",
              "      <td>5</td>\n",
              "      <td>2</td>\n",
              "      <td>0</td>\n",
              "      <td>0</td>\n",
              "    </tr>\n",
              "    <tr>\n",
              "      <th>3</th>\n",
              "      <td>2016-01-01 03:00:00</td>\n",
              "      <td>63</td>\n",
              "      <td>80</td>\n",
              "      <td>Operator1</td>\n",
              "      <td>550</td>\n",
              "      <td>1</td>\n",
              "      <td>1</td>\n",
              "      <td>1754</td>\n",
              "      <td>1834</td>\n",
              "      <td>1413</td>\n",
              "      <td>1151</td>\n",
              "      <td>945</td>\n",
              "      <td>1312</td>\n",
              "      <td>1494</td>\n",
              "      <td>1755</td>\n",
              "      <td>1434</td>\n",
              "      <td>502</td>\n",
              "      <td>1336</td>\n",
              "      <td>711</td>\n",
              "      <td>93</td>\n",
              "      <td>No</td>\n",
              "      <td>2016</td>\n",
              "      <td>1</td>\n",
              "      <td>1</td>\n",
              "      <td>5</td>\n",
              "      <td>3</td>\n",
              "      <td>0</td>\n",
              "      <td>0</td>\n",
              "    </tr>\n",
              "    <tr>\n",
              "      <th>4</th>\n",
              "      <td>2016-01-01 04:00:00</td>\n",
              "      <td>65</td>\n",
              "      <td>81</td>\n",
              "      <td>Operator1</td>\n",
              "      <td>1928</td>\n",
              "      <td>1</td>\n",
              "      <td>2</td>\n",
              "      <td>1326</td>\n",
              "      <td>1082</td>\n",
              "      <td>233</td>\n",
              "      <td>1441</td>\n",
              "      <td>1736</td>\n",
              "      <td>1033</td>\n",
              "      <td>1549</td>\n",
              "      <td>802</td>\n",
              "      <td>1819</td>\n",
              "      <td>1616</td>\n",
              "      <td>1507</td>\n",
              "      <td>507</td>\n",
              "      <td>94</td>\n",
              "      <td>No</td>\n",
              "      <td>2016</td>\n",
              "      <td>1</td>\n",
              "      <td>1</td>\n",
              "      <td>5</td>\n",
              "      <td>4</td>\n",
              "      <td>0</td>\n",
              "      <td>0</td>\n",
              "    </tr>\n",
              "    <tr>\n",
              "      <th>...</th>\n",
              "      <td>...</td>\n",
              "      <td>...</td>\n",
              "      <td>...</td>\n",
              "      <td>...</td>\n",
              "      <td>...</td>\n",
              "      <td>...</td>\n",
              "      <td>...</td>\n",
              "      <td>...</td>\n",
              "      <td>...</td>\n",
              "      <td>...</td>\n",
              "      <td>...</td>\n",
              "      <td>...</td>\n",
              "      <td>...</td>\n",
              "      <td>...</td>\n",
              "      <td>...</td>\n",
              "      <td>...</td>\n",
              "      <td>...</td>\n",
              "      <td>...</td>\n",
              "      <td>...</td>\n",
              "      <td>...</td>\n",
              "      <td>...</td>\n",
              "      <td>...</td>\n",
              "      <td>...</td>\n",
              "      <td>...</td>\n",
              "      <td>...</td>\n",
              "      <td>...</td>\n",
              "      <td>...</td>\n",
              "      <td>...</td>\n",
              "    </tr>\n",
              "    <tr>\n",
              "      <th>8779</th>\n",
              "      <td>2016-12-31 19:00:00</td>\n",
              "      <td>66</td>\n",
              "      <td>79</td>\n",
              "      <td>Operator8</td>\n",
              "      <td>937</td>\n",
              "      <td>0</td>\n",
              "      <td>2</td>\n",
              "      <td>1875</td>\n",
              "      <td>1719</td>\n",
              "      <td>219</td>\n",
              "      <td>748</td>\n",
              "      <td>1901</td>\n",
              "      <td>819</td>\n",
              "      <td>546</td>\n",
              "      <td>901</td>\n",
              "      <td>1512</td>\n",
              "      <td>1477</td>\n",
              "      <td>537</td>\n",
              "      <td>410</td>\n",
              "      <td>7</td>\n",
              "      <td>No</td>\n",
              "      <td>2016</td>\n",
              "      <td>12</td>\n",
              "      <td>31</td>\n",
              "      <td>6</td>\n",
              "      <td>19</td>\n",
              "      <td>0</td>\n",
              "      <td>0</td>\n",
              "    </tr>\n",
              "    <tr>\n",
              "      <th>8780</th>\n",
              "      <td>2016-12-31 20:00:00</td>\n",
              "      <td>60</td>\n",
              "      <td>77</td>\n",
              "      <td>Operator8</td>\n",
              "      <td>379</td>\n",
              "      <td>3</td>\n",
              "      <td>0</td>\n",
              "      <td>814</td>\n",
              "      <td>1990</td>\n",
              "      <td>1606</td>\n",
              "      <td>1346</td>\n",
              "      <td>962</td>\n",
              "      <td>875</td>\n",
              "      <td>1067</td>\n",
              "      <td>608</td>\n",
              "      <td>251</td>\n",
              "      <td>1476</td>\n",
              "      <td>522</td>\n",
              "      <td>943</td>\n",
              "      <td>8</td>\n",
              "      <td>No</td>\n",
              "      <td>2016</td>\n",
              "      <td>12</td>\n",
              "      <td>31</td>\n",
              "      <td>6</td>\n",
              "      <td>20</td>\n",
              "      <td>0</td>\n",
              "      <td>0</td>\n",
              "    </tr>\n",
              "    <tr>\n",
              "      <th>8781</th>\n",
              "      <td>2016-12-31 21:00:00</td>\n",
              "      <td>61</td>\n",
              "      <td>77</td>\n",
              "      <td>Operator8</td>\n",
              "      <td>595</td>\n",
              "      <td>3</td>\n",
              "      <td>1</td>\n",
              "      <td>1659</td>\n",
              "      <td>1134</td>\n",
              "      <td>1314</td>\n",
              "      <td>907</td>\n",
              "      <td>1119</td>\n",
              "      <td>1623</td>\n",
              "      <td>272</td>\n",
              "      <td>1149</td>\n",
              "      <td>1951</td>\n",
              "      <td>1835</td>\n",
              "      <td>1554</td>\n",
              "      <td>200</td>\n",
              "      <td>9</td>\n",
              "      <td>No</td>\n",
              "      <td>2016</td>\n",
              "      <td>12</td>\n",
              "      <td>31</td>\n",
              "      <td>6</td>\n",
              "      <td>21</td>\n",
              "      <td>0</td>\n",
              "      <td>0</td>\n",
              "    </tr>\n",
              "    <tr>\n",
              "      <th>8782</th>\n",
              "      <td>2016-12-31 22:00:00</td>\n",
              "      <td>72</td>\n",
              "      <td>81</td>\n",
              "      <td>Operator8</td>\n",
              "      <td>1038</td>\n",
              "      <td>3</td>\n",
              "      <td>2</td>\n",
              "      <td>254</td>\n",
              "      <td>1400</td>\n",
              "      <td>564</td>\n",
              "      <td>216</td>\n",
              "      <td>1011</td>\n",
              "      <td>1909</td>\n",
              "      <td>502</td>\n",
              "      <td>470</td>\n",
              "      <td>1331</td>\n",
              "      <td>1696</td>\n",
              "      <td>229</td>\n",
              "      <td>1192</td>\n",
              "      <td>10</td>\n",
              "      <td>No</td>\n",
              "      <td>2016</td>\n",
              "      <td>12</td>\n",
              "      <td>31</td>\n",
              "      <td>6</td>\n",
              "      <td>22</td>\n",
              "      <td>0</td>\n",
              "      <td>0</td>\n",
              "    </tr>\n",
              "    <tr>\n",
              "      <th>8783</th>\n",
              "      <td>2016-12-31 23:00:00</td>\n",
              "      <td>60</td>\n",
              "      <td>82</td>\n",
              "      <td>Operator8</td>\n",
              "      <td>399</td>\n",
              "      <td>0</td>\n",
              "      <td>1</td>\n",
              "      <td>324</td>\n",
              "      <td>1424</td>\n",
              "      <td>809</td>\n",
              "      <td>919</td>\n",
              "      <td>1392</td>\n",
              "      <td>481</td>\n",
              "      <td>1109</td>\n",
              "      <td>1061</td>\n",
              "      <td>1669</td>\n",
              "      <td>1444</td>\n",
              "      <td>744</td>\n",
              "      <td>1548</td>\n",
              "      <td>11</td>\n",
              "      <td>No</td>\n",
              "      <td>2016</td>\n",
              "      <td>12</td>\n",
              "      <td>31</td>\n",
              "      <td>6</td>\n",
              "      <td>23</td>\n",
              "      <td>0</td>\n",
              "      <td>0</td>\n",
              "    </tr>\n",
              "  </tbody>\n",
              "</table>\n",
              "<p>8784 rows × 28 columns</p>\n",
              "</div>"
            ],
            "text/plain": [
              "                     Date  Temperature  ...  ﻿Date.minute ﻿Date.second\n",
              "0     2016-01-01 00:00:00           67  ...             0            0\n",
              "1     2016-01-01 01:00:00           68  ...             0            0\n",
              "2     2016-01-01 02:00:00           64  ...             0            0\n",
              "3     2016-01-01 03:00:00           63  ...             0            0\n",
              "4     2016-01-01 04:00:00           65  ...             0            0\n",
              "...                   ...          ...  ...           ...          ...\n",
              "8779  2016-12-31 19:00:00           66  ...             0            0\n",
              "8780  2016-12-31 20:00:00           60  ...             0            0\n",
              "8781  2016-12-31 21:00:00           61  ...             0            0\n",
              "8782  2016-12-31 22:00:00           72  ...             0            0\n",
              "8783  2016-12-31 23:00:00           60  ...             0            0\n",
              "\n",
              "[8784 rows x 28 columns]"
            ]
          },
          "metadata": {},
          "execution_count": 1
        }
      ]
    },
    {
      "cell_type": "markdown",
      "metadata": {
        "id": "i0c-KabGL-kZ"
      },
      "source": [
        "## Baseline model"
      ]
    },
    {
      "cell_type": "markdown",
      "metadata": {
        "id": "uvwNjT0kMdpn"
      },
      "source": [
        "### Preprocessing"
      ]
    },
    {
      "cell_type": "code",
      "metadata": {
        "colab": {
          "base_uri": "https://localhost:8080/"
        },
        "id": "C1YZBlfjMk5P",
        "outputId": "b26dd642-edff-437f-d68a-0d6ab6c736b0"
      },
      "source": [
        "raw_data.dtypes"
      ],
      "execution_count": 2,
      "outputs": [
        {
          "output_type": "execute_result",
          "data": {
            "text/plain": [
              "Date                            object\n",
              "Temperature                      int64\n",
              "Humidity                         int64\n",
              "Operator                        object\n",
              "Measure1                         int64\n",
              "Measure2                         int64\n",
              "Measure3                         int64\n",
              "Measure4                         int64\n",
              "Measure5                         int64\n",
              "Measure6                         int64\n",
              "Measure7                         int64\n",
              "Measure8                         int64\n",
              "Measure9                         int64\n",
              "Measure10                        int64\n",
              "Measure11                        int64\n",
              "Measure12                        int64\n",
              "Measure13                        int64\n",
              "Measure14                        int64\n",
              "Measure15                        int64\n",
              "Hours Since Previous Failure     int64\n",
              "Failure                         object\n",
              "﻿Date.year                       int64\n",
              "﻿Date.month                      int64\n",
              "﻿Date.day-of-month               int64\n",
              "﻿Date.day-of-week                int64\n",
              "﻿Date.hour                       int64\n",
              "﻿Date.minute                     int64\n",
              "﻿Date.second                     int64\n",
              "dtype: object"
            ]
          },
          "metadata": {},
          "execution_count": 2
        }
      ]
    },
    {
      "cell_type": "code",
      "metadata": {
        "id": "Z9V86oOTMaij"
      },
      "source": [
        "df = raw_data.copy()\n",
        "\n",
        "df['Date'] = pd.to_datetime(df['Date'])\n",
        "df['Failure'] = df['Failure'].map({\"Yes\": 1, \"No\": 0})\n",
        "proporcao_falha_operador = df.groupby(by='Operator').mean()['Failure']\n",
        "df['Operator'] = df['Operator'].map(proporcao_falha_operador)"
      ],
      "execution_count": 3,
      "outputs": []
    },
    {
      "cell_type": "markdown",
      "metadata": {
        "id": "uS7WMx5HP-ba"
      },
      "source": [
        "Transformações básicas neessárias visto que a maioria dos modelos do scikit-learn necessitam de features numericas. \n",
        "\n",
        "Pro caso de operador, vários encodings são válidos, mas no nosso caso usamos o target encoding por proporçao de falhas para que a feature passe a assumir algum poder preditivo além de simplesmente ser transformada em númreo aleatorios.\n"
      ]
    },
    {
      "cell_type": "markdown",
      "metadata": {
        "id": "mbREnwxpQms2"
      },
      "source": [
        "### Baseline model\n",
        "Baseline é o modelo mais barato a ser desenvolvido. Um MVP."
      ]
    },
    {
      "cell_type": "code",
      "metadata": {
        "colab": {
          "base_uri": "https://localhost:8080/"
        },
        "id": "Dlr028afUD07",
        "outputId": "49ca4c47-2bae-4767-8303-e97122c96232"
      },
      "source": [
        "df.columns"
      ],
      "execution_count": 4,
      "outputs": [
        {
          "output_type": "execute_result",
          "data": {
            "text/plain": [
              "Index(['Date', 'Temperature', 'Humidity', 'Operator', 'Measure1', 'Measure2',\n",
              "       'Measure3', 'Measure4', 'Measure5', 'Measure6', 'Measure7', 'Measure8',\n",
              "       'Measure9', 'Measure10', 'Measure11', 'Measure12', 'Measure13',\n",
              "       'Measure14', 'Measure15', 'Hours Since Previous Failure', 'Failure',\n",
              "       '﻿Date.year', '﻿Date.month', '﻿Date.day-of-month', '﻿Date.day-of-week',\n",
              "       '﻿Date.hour', '﻿Date.minute', '﻿Date.second'],\n",
              "      dtype='object')"
            ]
          },
          "metadata": {},
          "execution_count": 4
        }
      ]
    },
    {
      "cell_type": "code",
      "metadata": {
        "colab": {
          "base_uri": "https://localhost:8080/"
        },
        "id": "JWD3TQ5qbvy3",
        "outputId": "47a089cd-f033-4cf6-da7f-a827584dba5a"
      },
      "source": [
        "import random\n",
        "model_ramdomness_seed = random.randint(1, 1000)\n",
        "model_ramdomness_seed"
      ],
      "execution_count": 5,
      "outputs": [
        {
          "output_type": "execute_result",
          "data": {
            "text/plain": [
              "439"
            ]
          },
          "metadata": {},
          "execution_count": 5
        }
      ]
    },
    {
      "cell_type": "markdown",
      "metadata": {
        "id": "I5Fg1AK_cVze"
      },
      "source": [
        "Essa etapa é imortante para que possamos usar a aleatoriedade a nosso favor, mas de modo que em uma mesma rodada, todos os modelos sejam poderados por um mesmo algoritmo de divisão em treino e teste para que possamos saber qual se comporta melhor"
      ]
    },
    {
      "cell_type": "code",
      "metadata": {
        "colab": {
          "base_uri": "https://localhost:8080/"
        },
        "id": "LqFQTth3INOg",
        "outputId": "bfcb2e08-373a-40d3-aeeb-6e81b81b8a7f"
      },
      "source": [
        "from sklearn.linear_model import LogisticRegression\n",
        "from sklearn.model_selection import cross_val_score, StratifiedKFold\n",
        "\n",
        "\n",
        "x_features =['Temperature', 'Humidity', 'Operator', 'Measure1', 'Measure2',\n",
        "       'Measure3', 'Measure4', 'Measure5', 'Measure6', 'Measure7', 'Measure8',\n",
        "       'Measure9', 'Measure10', 'Measure11', 'Measure12', 'Measure13',\n",
        "       'Measure14', 'Measure15', 'Hours Since Previous Failure',\n",
        "       '﻿Date.year', '﻿Date.month', '﻿Date.day-of-month', '﻿Date.day-of-week',\n",
        "       '﻿Date.hour', '﻿Date.minute', '﻿Date.second']\n",
        "y_feature = 'Failure'\n",
        "\n",
        "\n",
        "model = LogisticRegression(max_iter=10000)\n",
        "folds = StratifiedKFold(shuffle=True, random_state=model_ramdomness_seed)\n",
        "\n",
        "result = cross_val_score(model, df[x_features], df[y_feature], scoring=\"f1\", cv=folds)\n",
        "print(f\"{result.mean()} ± {2 * result.std()}\")"
      ],
      "execution_count": 6,
      "outputs": [
        {
          "output_type": "stream",
          "text": [
            "0.7475023041474654 ± 0.36857144654827256\n"
          ],
          "name": "stdout"
        }
      ]
    },
    {
      "cell_type": "markdown",
      "metadata": {
        "id": "MpZBSaZ7Vnoq"
      },
      "source": [
        "O modelo apresentado não necessariamente o mais barato como anteriormente porque por padrão, modelos lineares, para uma mesma quantidade detempo gasto no desenvolvimento, têm performace inferior a modelos baseados em árvores como veremos a segir."
      ]
    },
    {
      "cell_type": "code",
      "metadata": {
        "colab": {
          "base_uri": "https://localhost:8080/"
        },
        "id": "Qm9DmAn8VWBa",
        "outputId": "a5e8dde0-7cf7-414a-91c7-4dc290b2937e"
      },
      "source": [
        "from xgboost import XGBClassifier\n",
        "from sklearn.model_selection import cross_val_score, StratifiedKFold\n",
        "\n",
        "\n",
        "x_features =['Temperature', 'Humidity', 'Operator', 'Measure1', 'Measure2',\n",
        "       'Measure3', 'Measure4', 'Measure5', 'Measure6', 'Measure7', 'Measure8',\n",
        "       'Measure9', 'Measure10', 'Measure11', 'Measure12', 'Measure13',\n",
        "       'Measure14', 'Measure15', 'Hours Since Previous Failure',\n",
        "       '﻿Date.year', '﻿Date.month', '﻿Date.day-of-month', '﻿Date.day-of-week',\n",
        "       '﻿Date.hour', '﻿Date.minute', '﻿Date.second']\n",
        "y_feature = 'Failure'\n",
        "\n",
        "\n",
        "model = XGBClassifier()\n",
        "folds = StratifiedKFold(shuffle=True, random_state=model_ramdomness_seed)\n",
        "\n",
        "result = cross_val_score(model, df[x_features], df[y_feature], scoring=\"f1\", cv=folds)\n",
        "print(f\"{result.mean()} ± {2 * result.std()}\")"
      ],
      "execution_count": 7,
      "outputs": [
        {
          "output_type": "stream",
          "text": [
            "0.8196451612903226 ± 0.21223847127705658\n"
          ],
          "name": "stdout"
        }
      ]
    },
    {
      "cell_type": "markdown",
      "metadata": {
        "id": "JIf43fXMWQCV"
      },
      "source": [
        "Na media, o xgboost apresenta um resultado melhor, mas olhando com cuidado isso não nos parece uma vitoria. Um bom modelo precisa transmitir a confiança de sempre prever com a mesma acurácia e para isso é importante que não só a métrica de intersse, no caso o f1 score seja a maior possível, mas também que a variância das previsôes em conjuntos de treino e teste diferentes seja a menor possível."
      ]
    },
    {
      "cell_type": "markdown",
      "metadata": {
        "id": "cJwn2tGQX1mp"
      },
      "source": [
        "### Aprofundando o XGBoost"
      ]
    },
    {
      "cell_type": "markdown",
      "metadata": {
        "id": "nspnodb1X-EK"
      },
      "source": [
        "Como vimos acima, precisamos tornar nosso modelo mais confiável. Para tal vamos abordar 3 perspetivas da modelagem: normalização de dados, seleção de variáveis e ajuste de hiperparâmetros."
      ]
    },
    {
      "cell_type": "markdown",
      "metadata": {
        "id": "HJBlgApUdxwk"
      },
      "source": [
        "#### Scaling"
      ]
    },
    {
      "cell_type": "code",
      "metadata": {
        "colab": {
          "base_uri": "https://localhost:8080/"
        },
        "id": "pqK8fx4-aLKJ",
        "outputId": "84404414-e1c1-4736-8904-8e197180016c"
      },
      "source": [
        "from sklearn.preprocessing import StandardScaler\n",
        "import numpy as np\n",
        "\n",
        "\n",
        "ss = StandardScaler()\n",
        "\n",
        "scaled_df = df.copy()\n",
        "for feature in scaled_df.columns:\n",
        "    if feature == \"Failure\":\n",
        "        continue\n",
        "    scaled_df[feature] = ss.fit_transform(np.array(scaled_df[feature]).reshape(-1, 1))\n",
        "\n",
        "\n",
        "x_features =['Temperature', 'Humidity', 'Operator', 'Measure1', 'Measure2',\n",
        "       'Measure3', 'Measure4', 'Measure5', 'Measure6', 'Measure7', 'Measure8',\n",
        "       'Measure9', 'Measure10', 'Measure11', 'Measure12', 'Measure13',\n",
        "       'Measure14', 'Measure15', 'Hours Since Previous Failure',\n",
        "       '﻿Date.year', '﻿Date.month', '﻿Date.day-of-month', '﻿Date.day-of-week',\n",
        "       '﻿Date.hour', '﻿Date.minute', '﻿Date.second']\n",
        "y_feature = 'Failure'\n",
        "\n",
        "\n",
        "model = XGBClassifier()\n",
        "folds = StratifiedKFold(shuffle=True, random_state=model_ramdomness_seed)\n",
        "\n",
        "result = cross_val_score(model, scaled_df[x_features], scaled_df[y_feature], scoring=\"f1\", cv=folds)\n",
        "print(f\"{result.mean()} ± {2 * result.std()}\")\n"
      ],
      "execution_count": 8,
      "outputs": [
        {
          "output_type": "stream",
          "text": [
            "0.8196451612903226 ± 0.21223847127705658\n"
          ],
          "name": "stdout"
        }
      ]
    },
    {
      "cell_type": "markdown",
      "metadata": {
        "id": "6wl4d8MnbfeA"
      },
      "source": [
        "Nenhuma diferença com relação aos dados não escalados? Pois é. Modelos baseados em árvore acabam não sendo influenciados por transformações monotonicas em suas variáveis, mas podemos tentar algo levemente diferente: do mesmo modo que com o operador, podemos tentar escalar as variáveis pela participação na proporção de falhas"
      ]
    },
    {
      "cell_type": "markdown",
      "metadata": {
        "id": "UNxLoMOnh7J4"
      },
      "source": [
        "#### Feature Seletion"
      ]
    },
    {
      "cell_type": "code",
      "metadata": {
        "colab": {
          "base_uri": "https://localhost:8080/",
          "height": 896
        },
        "id": "N7fJ0xjwfGPj",
        "outputId": "7a2f4bd5-41db-4144-e949-94b7916e5e25"
      },
      "source": [
        "from xgboost import XGBClassifier\n",
        "from sklearn.model_selection import cross_val_score, StratifiedKFold\n",
        "\n",
        "feature_selection_df = df.copy()\n",
        "feature_selection_df[\"random_variable\"] = [random.randint(-5, 5) for failure in df['Failure']]\n",
        "feature_selection_x_features = x_features.copy()\n",
        "feature_selection_x_features.append(\"random_variable\")\n",
        "\n",
        "model = XGBClassifier()\n",
        "\n",
        "model.fit(feature_selection_df[feature_selection_x_features], feature_selection_df[y_feature])\n",
        "feature_importances = pd.DataFrame({\n",
        "    'feature': feature_selection_x_features,\n",
        "    'importance': model.feature_importances_\n",
        "    }).sort_values(by='importance', ascending=False)\n",
        "\n",
        "feature_importances"
      ],
      "execution_count": 9,
      "outputs": [
        {
          "output_type": "execute_result",
          "data": {
            "text/html": [
              "<div>\n",
              "<style scoped>\n",
              "    .dataframe tbody tr th:only-of-type {\n",
              "        vertical-align: middle;\n",
              "    }\n",
              "\n",
              "    .dataframe tbody tr th {\n",
              "        vertical-align: top;\n",
              "    }\n",
              "\n",
              "    .dataframe thead th {\n",
              "        text-align: right;\n",
              "    }\n",
              "</style>\n",
              "<table border=\"1\" class=\"dataframe\">\n",
              "  <thead>\n",
              "    <tr style=\"text-align: right;\">\n",
              "      <th></th>\n",
              "      <th>feature</th>\n",
              "      <th>importance</th>\n",
              "    </tr>\n",
              "  </thead>\n",
              "  <tbody>\n",
              "    <tr>\n",
              "      <th>1</th>\n",
              "      <td>Humidity</td>\n",
              "      <td>0.236069</td>\n",
              "    </tr>\n",
              "    <tr>\n",
              "      <th>0</th>\n",
              "      <td>Temperature</td>\n",
              "      <td>0.111014</td>\n",
              "    </tr>\n",
              "    <tr>\n",
              "      <th>18</th>\n",
              "      <td>Hours Since Previous Failure</td>\n",
              "      <td>0.052565</td>\n",
              "    </tr>\n",
              "    <tr>\n",
              "      <th>26</th>\n",
              "      <td>random_variable</td>\n",
              "      <td>0.048559</td>\n",
              "    </tr>\n",
              "    <tr>\n",
              "      <th>15</th>\n",
              "      <td>Measure13</td>\n",
              "      <td>0.043776</td>\n",
              "    </tr>\n",
              "    <tr>\n",
              "      <th>13</th>\n",
              "      <td>Measure11</td>\n",
              "      <td>0.041346</td>\n",
              "    </tr>\n",
              "    <tr>\n",
              "      <th>16</th>\n",
              "      <td>Measure14</td>\n",
              "      <td>0.036477</td>\n",
              "    </tr>\n",
              "    <tr>\n",
              "      <th>23</th>\n",
              "      <td>﻿Date.hour</td>\n",
              "      <td>0.036287</td>\n",
              "    </tr>\n",
              "    <tr>\n",
              "      <th>7</th>\n",
              "      <td>Measure5</td>\n",
              "      <td>0.036150</td>\n",
              "    </tr>\n",
              "    <tr>\n",
              "      <th>3</th>\n",
              "      <td>Measure1</td>\n",
              "      <td>0.035042</td>\n",
              "    </tr>\n",
              "    <tr>\n",
              "      <th>20</th>\n",
              "      <td>﻿Date.month</td>\n",
              "      <td>0.034465</td>\n",
              "    </tr>\n",
              "    <tr>\n",
              "      <th>9</th>\n",
              "      <td>Measure7</td>\n",
              "      <td>0.034316</td>\n",
              "    </tr>\n",
              "    <tr>\n",
              "      <th>21</th>\n",
              "      <td>﻿Date.day-of-month</td>\n",
              "      <td>0.033620</td>\n",
              "    </tr>\n",
              "    <tr>\n",
              "      <th>12</th>\n",
              "      <td>Measure10</td>\n",
              "      <td>0.033550</td>\n",
              "    </tr>\n",
              "    <tr>\n",
              "      <th>8</th>\n",
              "      <td>Measure6</td>\n",
              "      <td>0.033490</td>\n",
              "    </tr>\n",
              "    <tr>\n",
              "      <th>14</th>\n",
              "      <td>Measure12</td>\n",
              "      <td>0.032822</td>\n",
              "    </tr>\n",
              "    <tr>\n",
              "      <th>17</th>\n",
              "      <td>Measure15</td>\n",
              "      <td>0.028471</td>\n",
              "    </tr>\n",
              "    <tr>\n",
              "      <th>11</th>\n",
              "      <td>Measure9</td>\n",
              "      <td>0.027895</td>\n",
              "    </tr>\n",
              "    <tr>\n",
              "      <th>6</th>\n",
              "      <td>Measure4</td>\n",
              "      <td>0.021750</td>\n",
              "    </tr>\n",
              "    <tr>\n",
              "      <th>10</th>\n",
              "      <td>Measure8</td>\n",
              "      <td>0.020054</td>\n",
              "    </tr>\n",
              "    <tr>\n",
              "      <th>22</th>\n",
              "      <td>﻿Date.day-of-week</td>\n",
              "      <td>0.012822</td>\n",
              "    </tr>\n",
              "    <tr>\n",
              "      <th>2</th>\n",
              "      <td>Operator</td>\n",
              "      <td>0.009460</td>\n",
              "    </tr>\n",
              "    <tr>\n",
              "      <th>19</th>\n",
              "      <td>﻿Date.year</td>\n",
              "      <td>0.000000</td>\n",
              "    </tr>\n",
              "    <tr>\n",
              "      <th>5</th>\n",
              "      <td>Measure3</td>\n",
              "      <td>0.000000</td>\n",
              "    </tr>\n",
              "    <tr>\n",
              "      <th>24</th>\n",
              "      <td>﻿Date.minute</td>\n",
              "      <td>0.000000</td>\n",
              "    </tr>\n",
              "    <tr>\n",
              "      <th>25</th>\n",
              "      <td>﻿Date.second</td>\n",
              "      <td>0.000000</td>\n",
              "    </tr>\n",
              "    <tr>\n",
              "      <th>4</th>\n",
              "      <td>Measure2</td>\n",
              "      <td>0.000000</td>\n",
              "    </tr>\n",
              "  </tbody>\n",
              "</table>\n",
              "</div>"
            ],
            "text/plain": [
              "                         feature  importance\n",
              "1                       Humidity    0.236069\n",
              "0                    Temperature    0.111014\n",
              "18  Hours Since Previous Failure    0.052565\n",
              "26               random_variable    0.048559\n",
              "15                     Measure13    0.043776\n",
              "13                     Measure11    0.041346\n",
              "16                     Measure14    0.036477\n",
              "23                    ﻿Date.hour    0.036287\n",
              "7                       Measure5    0.036150\n",
              "3                       Measure1    0.035042\n",
              "20                   ﻿Date.month    0.034465\n",
              "9                       Measure7    0.034316\n",
              "21            ﻿Date.day-of-month    0.033620\n",
              "12                     Measure10    0.033550\n",
              "8                       Measure6    0.033490\n",
              "14                     Measure12    0.032822\n",
              "17                     Measure15    0.028471\n",
              "11                      Measure9    0.027895\n",
              "6                       Measure4    0.021750\n",
              "10                      Measure8    0.020054\n",
              "22             ﻿Date.day-of-week    0.012822\n",
              "2                       Operator    0.009460\n",
              "19                    ﻿Date.year    0.000000\n",
              "5                       Measure3    0.000000\n",
              "24                  ﻿Date.minute    0.000000\n",
              "25                  ﻿Date.second    0.000000\n",
              "4                       Measure2    0.000000"
            ]
          },
          "metadata": {},
          "execution_count": 9
        }
      ]
    },
    {
      "cell_type": "code",
      "metadata": {
        "colab": {
          "base_uri": "https://localhost:8080/"
        },
        "id": "tViHu12rgNsV",
        "outputId": "b6d5ce35-a3a2-4967-d0e4-e769fa2ba42f"
      },
      "source": [
        "random_variable_importance = feature_importances[feature_importances['feature'] == 'random_variable'].importance.values[0]\n",
        "important_x_features = feature_importances[feature_importances['importance'] > random_variable_importance]['feature'].values\n",
        "y_feature = 'Failure'\n",
        "\n",
        "model = XGBClassifier()\n",
        "folds = StratifiedKFold(shuffle=True, random_state=model_ramdomness_seed)\n",
        "\n",
        "result = cross_val_score(model, df[important_x_features], df[y_feature], scoring=\"f1\", cv=folds)\n",
        "print(f\"{result.mean()} ± {2 * result.std()}\")"
      ],
      "execution_count": 10,
      "outputs": [
        {
          "output_type": "stream",
          "text": [
            "0.8276599326599327 ± 0.17871867379183742\n"
          ],
          "name": "stdout"
        }
      ]
    },
    {
      "cell_type": "markdown",
      "metadata": {
        "id": "uXcQ5tztkJyH"
      },
      "source": [
        "### Hyperparameter tuning"
      ]
    },
    {
      "cell_type": "code",
      "metadata": {
        "colab": {
          "base_uri": "https://localhost:8080/"
        },
        "id": "d-45WgBtkCfU",
        "outputId": "d624e911-1a7a-4871-fd25-60b22d25ecb5"
      },
      "source": [
        "from sklearn.model_selection import GridSearchCV\n",
        "\n",
        "random_variable_importance = feature_importances[feature_importances['feature'] == 'random_variable'].importance.values[0]\n",
        "important_x_features = feature_importances[feature_importances['importance'] > random_variable_importance]['feature'].values\n",
        "y_feature = 'Failure'\n",
        "\n",
        "model = XGBClassifier()\n",
        "folds = StratifiedKFold(shuffle=True, random_state=model_ramdomness_seed)\n",
        "\n",
        "param_grid = {\n",
        "    \"max_depth\": [3, 5, len(important_x_features)],\n",
        "    \"learning_rate\": [0.01, 0.001],\n",
        "    \"n_estimators\": [100, 300, 1000]\n",
        "    }\n",
        "\n",
        "search = GridSearchCV(model, param_grid, scoring=\"f1\", cv=folds)\n",
        "search.fit(df[important_x_features], df[y_feature])\n"
      ],
      "execution_count": 17,
      "outputs": [
        {
          "output_type": "execute_result",
          "data": {
            "text/plain": [
              "GridSearchCV(cv=StratifiedKFold(n_splits=5, random_state=439, shuffle=True),\n",
              "             error_score=nan,\n",
              "             estimator=XGBClassifier(base_score=0.5, booster='gbtree',\n",
              "                                     colsample_bylevel=1, colsample_bynode=1,\n",
              "                                     colsample_bytree=1, gamma=0,\n",
              "                                     learning_rate=0.1, max_delta_step=0,\n",
              "                                     max_depth=3, min_child_weight=1,\n",
              "                                     missing=None, n_estimators=100, n_jobs=1,\n",
              "                                     nthread=None, objective='binary:logistic',\n",
              "                                     random_state=0, reg_alpha=0, reg_lambda=1,\n",
              "                                     scale_pos_weight=1, seed=None, silent=None,\n",
              "                                     subsample=1, verbosity=1),\n",
              "             iid='deprecated', n_jobs=None,\n",
              "             param_grid={'learning_rate': [0.01, 0.001], 'max_depth': [3, 5, 3],\n",
              "                         'n_estimators': [100, 300, 1000]},\n",
              "             pre_dispatch='2*n_jobs', refit=True, return_train_score=False,\n",
              "             scoring='f1', verbose=0)"
            ]
          },
          "metadata": {},
          "execution_count": 17
        }
      ]
    },
    {
      "cell_type": "code",
      "metadata": {
        "colab": {
          "base_uri": "https://localhost:8080/"
        },
        "id": "NVBN149KkZkc",
        "outputId": "779514a1-7385-4be2-852d-c33771a338e0"
      },
      "source": [
        "search.best_score_"
      ],
      "execution_count": 18,
      "outputs": [
        {
          "output_type": "execute_result",
          "data": {
            "text/plain": [
              "0.8276599326599327"
            ]
          },
          "metadata": {},
          "execution_count": 18
        }
      ]
    }
  ]
}