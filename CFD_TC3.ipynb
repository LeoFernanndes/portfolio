{
  "nbformat": 4,
  "nbformat_minor": 0,
  "metadata": {
    "colab": {
      "name": "CFD_TC3.ipynb",
      "provenance": [],
      "authorship_tag": "ABX9TyORTksvyE5G2KCPBe1RK4nc",
      "include_colab_link": true
    },
    "kernelspec": {
      "name": "python3",
      "display_name": "Python 3"
    },
    "language_info": {
      "name": "python"
    }
  },
  "cells": [
    {
      "cell_type": "markdown",
      "metadata": {
        "id": "view-in-github",
        "colab_type": "text"
      },
      "source": [
        "<a href=\"https://colab.research.google.com/github/LeoFernanndes/portfolio/blob/master/CFD_TC3.ipynb\" target=\"_parent\"><img src=\"https://colab.research.google.com/assets/colab-badge.svg\" alt=\"Open In Colab\"/></a>"
      ]
    },
    {
      "cell_type": "code",
      "metadata": {
        "id": "gotZsmQx1NkZ"
      },
      "source": [
        "import pandas as pd\n",
        "import matplotlib.pyplot as plt"
      ],
      "execution_count": 15,
      "outputs": []
    },
    {
      "cell_type": "code",
      "metadata": {
        "colab": {
          "base_uri": "https://localhost:8080/",
          "height": 505
        },
        "id": "e4Y0nfhUuOzI",
        "outputId": "9789b60f-b38d-404d-db62-46ac19b79cb7"
      },
      "source": [
        "Ta = 20 # C\n",
        "Tb = 30 # C\n",
        "L = 0.1 # m\n",
        "A = 10 ** -2 # m2\n",
        "# q_dot = 10 ** 5 / X # w/m3\n",
        "k = 400 # w/(mk)\n",
        "N = 5\n",
        "\n",
        "solucao_analitica = []\n",
        "p = []\n",
        "for i in range(6):\n",
        "  if i == 0:\n",
        "    T = 20\n",
        "  elif i == 6:\n",
        "    T = 30\n",
        "  else:      \n",
        "    X = L/5 * i\n",
        "    T = Ta + (Tb - Ta)*X/L + (((10 ** 5)/L-X)*(L**2))/(2*k) * (-(X/L) ** 2 + X/L)\n",
        "\n",
        "  p.append(i)\n",
        "  solucao_analitica.append(T)\n",
        "\n",
        "\n",
        "tabela = pd.DataFrame({\n",
        "    \"N\": p,\n",
        "    \"T_real\": solucao_analitica\n",
        "})\n",
        "\n",
        "plt.scatter(x=tabela[\"N\"], y=tabela[\"T_real\"], marker=\"x\")\n",
        "plt.title(\"Plot da solução\")\n",
        "plt.legend([\"T_real\"])\n",
        "plt.xlabel(\"N do volume\")\n",
        "plt.ylabel(\"T [C]\")\n",
        "plt.show()\n",
        "\n",
        "columns_to_format = [\"T_real\"]\n",
        "for column in columns_to_format:\n",
        "\n",
        "  tabela[column] = tabela[column].apply(lambda x: \"{:.14e}\".format(x))\n",
        "\n",
        "display(tabela)"
      ],
      "execution_count": 41,
      "outputs": [
        {
          "output_type": "display_data",
          "data": {
            "image/png": "[encoded data removed]",
            "text/plain": [
              "<Figure size 432x288 with 1 Axes>"
            ]
          },
          "metadata": {
            "tags": [],
            "needs_background": "light"
          }
        },
        {
          "output_type": "display_data",
          "data": {
            "text/html": [
              "<div>\n",
              "<style scoped>\n",
              "    .dataframe tbody tr th:only-of-type {\n",
              "        vertical-align: middle;\n",
              "    }\n",
              "\n",
              "    .dataframe tbody tr th {\n",
              "        vertical-align: top;\n",
              "    }\n",
              "\n",
              "    .dataframe thead th {\n",
              "        text-align: right;\n",
              "    }\n",
              "</style>\n",
              "<table border=\"1\" class=\"dataframe\">\n",
              "  <thead>\n",
              "    <tr style=\"text-align: right;\">\n",
              "      <th></th>\n",
              "      <th>N</th>\n",
              "      <th>T_real</th>\n",
              "    </tr>\n",
              "  </thead>\n",
              "  <tbody>\n",
              "    <tr>\n",
              "      <th>0</th>\n",
              "      <td>0</td>\n",
              "      <td>2.00000000000000e+01</td>\n",
              "    </tr>\n",
              "    <tr>\n",
              "      <th>1</th>\n",
              "      <td>1</td>\n",
              "      <td>2.39999999600000e+01</td>\n",
              "    </tr>\n",
              "    <tr>\n",
              "      <th>2</th>\n",
              "      <td>2</td>\n",
              "      <td>2.69999998800000e+01</td>\n",
              "    </tr>\n",
              "    <tr>\n",
              "      <th>3</th>\n",
              "      <td>3</td>\n",
              "      <td>2.89999998200000e+01</td>\n",
              "    </tr>\n",
              "    <tr>\n",
              "      <th>4</th>\n",
              "      <td>4</td>\n",
              "      <td>2.99999998400000e+01</td>\n",
              "    </tr>\n",
              "    <tr>\n",
              "      <th>5</th>\n",
              "      <td>5</td>\n",
              "      <td>3.00000000000000e+01</td>\n",
              "    </tr>\n",
              "  </tbody>\n",
              "</table>\n",
              "</div>"
            ],
            "text/plain": [
              "   N                T_real\n",
              "0  0  2.00000000000000e+01\n",
              "1  1  2.39999999600000e+01\n",
              "2  2  2.69999998800000e+01\n",
              "3  3  2.89999998200000e+01\n",
              "4  4  2.99999998400000e+01\n",
              "5  5  3.00000000000000e+01"
            ]
          },
          "metadata": {
            "tags": []
          }
        }
      ]
    }
  ]
}