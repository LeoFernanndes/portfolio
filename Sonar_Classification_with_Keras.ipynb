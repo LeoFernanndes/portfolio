{
  "nbformat": 4,
  "nbformat_minor": 0,
  "metadata": {
    "colab": {
      "name": "Sonar Classification with Keras.ipynb",
      "provenance": [],
      "collapsed_sections": [],
      "authorship_tag": "ABX9TyP5OEvczTRKchZPM1mS8A2M",
      "include_colab_link": true
    },
    "kernelspec": {
      "name": "python3",
      "display_name": "Python 3"
    }
  },
  "cells": [
    {
      "cell_type": "markdown",
      "metadata": {
        "id": "view-in-github",
        "colab_type": "text"
      },
      "source": [
        "<a href=\"https://colab.research.google.com/github/LeoFernanndes/notebooks/blob/master/Sonar_Classification_with_Keras.ipynb\" target=\"_parent\"><img src=\"https://colab.research.google.com/assets/colab-badge.svg\" alt=\"Open In Colab\"/></a>"
      ]
    },
    {
      "cell_type": "markdown",
      "metadata": {
        "id": "mXbM8JIbV38v",
        "colab_type": "text"
      },
      "source": [
        "# Sonar Dataset Classification with Keras"
      ]
    },
    {
      "cell_type": "code",
      "metadata": {
        "id": "-fwMsMz1x1aF",
        "colab_type": "code",
        "outputId": "7a7d6394-aba7-4162-b588-d2a055fb9cf6",
        "colab": {
          "base_uri": "https://localhost:8080/",
          "height": 34
        }
      },
      "source": [
        "import pandas as pd\n",
        "from keras.models import Sequential\n",
        "from keras.layers import Dense\n",
        "from keras.wrappers.scikit_learn import KerasClassifier\n",
        "from sklearn.model_selection import cross_val_score\n",
        "from sklearn.preprocessing import LabelEncoder\n",
        "from sklearn.model_selection import StratifiedKFold\n",
        "from sklearn.preprocessing import StandardScaler\n",
        "from sklearn.pipeline import Pipeline\n",
        "\n",
        "\n",
        "data_url = 'https://raw.githubusercontent.com/LeoFernanndes/datasets/master/sonar.all-data.csv'\n",
        "dataframe = pd.read_csv(data_url)\n",
        "dataset = dataframe.values\n",
        "\n",
        "x = dataset[:, 0:60].astype(float)\n",
        "y = dataset[:, 60]"
      ],
      "execution_count": 2,
      "outputs": [
        {
          "output_type": "stream",
          "text": [
            "Using TensorFlow backend.\n"
          ],
          "name": "stderr"
        }
      ]
    },
    {
      "cell_type": "code",
      "metadata": {
        "id": "bTTLAr0I17iN",
        "colab_type": "code",
        "colab": {}
      },
      "source": [
        "# encoding categorical feature\n",
        "encoder = LabelEncoder()\n",
        "encoder.fit(y)\n",
        "encoded_y = encoder.transform(y)"
      ],
      "execution_count": 0,
      "outputs": []
    },
    {
      "cell_type": "markdown",
      "metadata": {
        "id": "NnJwuNKOd7vq",
        "colab_type": "text"
      },
      "source": [
        "### Baseline Sklearn Model"
      ]
    },
    {
      "cell_type": "code",
      "metadata": {
        "id": "plPIMQhOd7Wp",
        "colab_type": "code",
        "colab": {
          "base_uri": "https://localhost:8080/",
          "height": 34
        },
        "outputId": "393c021e-39f2-4cbf-bb98-fde957aa2bcf"
      },
      "source": [
        "from xgboost import XGBClassifier\n",
        "\n",
        "ss = StandardScaler()\n",
        "x_scaled = ss.fit_transform(x)\n",
        "\n",
        "xgb = XGBClassifier()\n",
        "kfold = StratifiedKFold(n_splits= 10, shuffle= True, random_state= 42)\n",
        "results = cross_val_score(xgb, x_scaled, encoded_y, cv= kfold)\n",
        "print('Baseline Sklearn accuracy: {}% ± {}%'.format(100 * results.mean(), 200 * results.std()))"
      ],
      "execution_count": 23,
      "outputs": [
        {
          "output_type": "stream",
          "text": [
            "Baseline Sklearn accuracy: 85.49999999999999% ± 11.612507917588449%\n"
          ],
          "name": "stdout"
        }
      ]
    },
    {
      "cell_type": "markdown",
      "metadata": {
        "id": "bJHtuGodRRm5",
        "colab_type": "text"
      },
      "source": [
        "### Baseline Model"
      ]
    },
    {
      "cell_type": "code",
      "metadata": {
        "id": "AKyz8c-w2GWy",
        "colab_type": "code",
        "colab": {}
      },
      "source": [
        "# baseline model\n",
        "def create_baseline():\n",
        "  # create model\n",
        "  model = Sequential()\n",
        "  model.add(Dense(60, input_dim= 60, activation= 'relu'))\n",
        "  model.add(Dense(1, activation= 'sigmoid'))\n",
        "  # compile model\n",
        "  model.compile(loss= 'binary_crossentropy', optimizer= 'adam', metrics= ['accuracy'])\n",
        "  return model"
      ],
      "execution_count": 0,
      "outputs": []
    },
    {
      "cell_type": "code",
      "metadata": {
        "id": "wYobQwyNAKTu",
        "colab_type": "code",
        "outputId": "2731a2ad-951c-49f2-ee3d-6f8d114a4636",
        "colab": {
          "base_uri": "https://localhost:8080/",
          "height": 34
        }
      },
      "source": [
        "# evaluate odel with standardized dataset\n",
        "estimator = KerasClassifier(build_fn= create_baseline, epochs= 100, batch_size= 5, verbose= 0)\n",
        "kfold = StratifiedKFold(n_splits= 10, shuffle= True)\n",
        "results = cross_val_score(estimator, x, encoded_y, cv= kfold)\n",
        "print('Baseline: {:2.2f}% ± {:2.2f}%'.format(100 * results.mean(), 200 * results.std()))"
      ],
      "execution_count": 6,
      "outputs": [
        {
          "output_type": "stream",
          "text": [
            "Baseline: 81.24% ± 13.75%\n"
          ],
          "name": "stdout"
        }
      ]
    },
    {
      "cell_type": "code",
      "metadata": {
        "id": "-ggIEjHuCdeK",
        "colab_type": "code",
        "outputId": "57c46e74-6eba-477d-ad8b-4fa3f1db2281",
        "colab": {
          "base_uri": "https://localhost:8080/",
          "height": 34
        }
      },
      "source": [
        "# pipepine\n",
        "estimators = []\n",
        "estimators.append(('standardize', StandardScaler()))\n",
        "estimators.append(('mlp', KerasClassifier(build_fn= create_baseline, epochs= 100, batch_size= 5, verbose= 0)))\n",
        "pipeline = Pipeline(estimators)\n",
        "kfold = StratifiedKFold(n_splits= 10, shuffle= True)\n",
        "results = cross_val_score(pipeline, x, encoded_y, cv= kfold)\n",
        "print('Standardized: {:2.2f}% ± {:2.2f}%'.format(100 * results.mean(), 200 * results.std()))"
      ],
      "execution_count": 7,
      "outputs": [
        {
          "output_type": "stream",
          "text": [
            "Standardized: 86.50% ± 20.02%\n"
          ],
          "name": "stdout"
        }
      ]
    },
    {
      "cell_type": "markdown",
      "metadata": {
        "id": "zQi44FQ0RK40",
        "colab_type": "text"
      },
      "source": [
        "### Smaller Model"
      ]
    },
    {
      "cell_type": "code",
      "metadata": {
        "id": "tng-PV4fK-8s",
        "colab_type": "code",
        "colab": {}
      },
      "source": [
        "# smaller model\n",
        "def create_smaller():\n",
        "  # create model\n",
        "  model = Sequential()\n",
        "  model.add(Dense(30, input_dim= 60, activation= 'relu'))\n",
        "  model.add(Dense(1, activation= 'sigmoid'))\n",
        "  # compile model\n",
        "  model.compile(loss= 'binary_crossentropy', optimizer= 'adam', metrics= ['accuracy'])\n",
        "  return model"
      ],
      "execution_count": 0,
      "outputs": []
    },
    {
      "cell_type": "code",
      "metadata": {
        "id": "ozKPKT33Mvwv",
        "colab_type": "code",
        "outputId": "b1db7698-9778-40d1-e065-89abfd3c914e",
        "colab": {
          "base_uri": "https://localhost:8080/",
          "height": 34
        }
      },
      "source": [
        "estimators = []\n",
        "estimators.append(('standardize', StandardScaler()))\n",
        "estimators.append(('mlp', KerasClassifier(build_fn= create_smaller, epochs= 100, batch_size= 5, verbose= 0)))\n",
        "pipeline = Pipeline(estimators)\n",
        "kfold = StratifiedKFold(n_splits= 10, shuffle= True)\n",
        "results = cross_val_score(pipeline, x, encoded_y, cv= kfold)\n",
        "print('Smaller: {:2.2f}% ± {:2.2f}%'.format(100 * results.mean(), 200 * results.std()))"
      ],
      "execution_count": 9,
      "outputs": [
        {
          "output_type": "stream",
          "text": [
            "Smaller: 84.48% ± 14.40%\n"
          ],
          "name": "stdout"
        }
      ]
    },
    {
      "cell_type": "markdown",
      "metadata": {
        "id": "lkjb47oeRX2n",
        "colab_type": "text"
      },
      "source": [
        "### Larger Model"
      ]
    },
    {
      "cell_type": "code",
      "metadata": {
        "id": "uJskFLjfNw5d",
        "colab_type": "code",
        "colab": {}
      },
      "source": [
        "# larger model\n",
        "def create_larger():\n",
        "  # create model\n",
        "  model = Sequential()\n",
        "  model.add(Dense(60, input_dim= 60, activation= 'relu'))\n",
        "  model.add(Dense(30, activation= 'relu'))\n",
        "  model.add(Dense(1, activation= 'sigmoid'))\n",
        "  # compile model\n",
        "  model.compile(loss= 'binary_crossentropy', optimizer= 'adam', metrics= ['accuracy'])\n",
        "  return model"
      ],
      "execution_count": 0,
      "outputs": []
    },
    {
      "cell_type": "code",
      "metadata": {
        "id": "bZMSBqwrUhg6",
        "colab_type": "code",
        "outputId": "b566d2fb-8e2d-4cc6-87b9-072c708e5122",
        "colab": {
          "base_uri": "https://localhost:8080/",
          "height": 34
        }
      },
      "source": [
        "estimators = []\n",
        "estimators.append(('standardize', StandardScaler()))\n",
        "estimators.append(('mlp', KerasClassifier(build_fn= create_larger, epochs= 100, batch_size= 5, verbose= 0)))\n",
        "pipeline = Pipeline(estimators)\n",
        "kfold = StratifiedKFold(n_splits= 10, shuffle= True)\n",
        "results = cross_val_score(pipeline, x, encoded_y, cv= kfold)\n",
        "print('Larger: {:2.2f}% ± {:2.2f}%'.format(100 * results.mean(), 200 * results.std()))"
      ],
      "execution_count": 11,
      "outputs": [
        {
          "output_type": "stream",
          "text": [
            "Larger: 87.48% ± 12.15%\n"
          ],
          "name": "stdout"
        }
      ]
    }
  ]
}