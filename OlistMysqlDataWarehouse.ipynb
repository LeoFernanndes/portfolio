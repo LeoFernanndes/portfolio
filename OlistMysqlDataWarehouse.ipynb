{
  "nbformat": 4,
  "nbformat_minor": 0,
  "metadata": {
    "colab": {
      "name": "OlistMysqlDataWarehouse.ipynb",
      "provenance": [],
      "collapsed_sections": [],
      "authorship_tag": "ABX9TyO6cBChdPgSbq7ucYitmUPf",
      "include_colab_link": true
    },
    "kernelspec": {
      "name": "python3",
      "display_name": "Python 3"
    }
  },
  "cells": [
    {
      "cell_type": "markdown",
      "metadata": {
        "id": "view-in-github",
        "colab_type": "text"
      },
      "source": [
        "<a href=\"https://colab.research.google.com/github/LeoFernanndes/portfolio/blob/master/OlistMysqlDataWarehouse.ipynb\" target=\"_parent\"><img src=\"https://colab.research.google.com/assets/colab-badge.svg\" alt=\"Open In Colab\"/></a>"
      ]
    },
    {
      "cell_type": "code",
      "metadata": {
        "colab": {
          "base_uri": "https://localhost:8080/"
        },
        "id": "EKu7TjyWKHiD",
        "outputId": "1d4906f1-9857-449d-b927-a0e9b3ef8a0a"
      },
      "source": [
        "!pip install mysql-connector-python\r\n",
        "!pip install pymysql\r\n",
        "!pip install tweepy\r\n",
        "!pip install SQLAlchemy"
      ],
      "execution_count": 7,
      "outputs": [
        {
          "output_type": "stream",
          "text": [
            "Requirement already satisfied: mysql-connector-python in /usr/local/lib/python3.6/dist-packages (8.0.22)\n",
            "Requirement already satisfied: protobuf>=3.0.0 in /usr/local/lib/python3.6/dist-packages (from mysql-connector-python) (3.12.4)\n",
            "Requirement already satisfied: setuptools in /usr/local/lib/python3.6/dist-packages (from protobuf>=3.0.0->mysql-connector-python) (50.3.2)\n",
            "Requirement already satisfied: six>=1.9 in /usr/local/lib/python3.6/dist-packages (from protobuf>=3.0.0->mysql-connector-python) (1.15.0)\n",
            "Requirement already satisfied: pymysql in /usr/local/lib/python3.6/dist-packages (0.10.1)\n",
            "Requirement already satisfied: tweepy in /usr/local/lib/python3.6/dist-packages (3.6.0)\n",
            "Requirement already satisfied: six>=1.10.0 in /usr/local/lib/python3.6/dist-packages (from tweepy) (1.15.0)\n",
            "Requirement already satisfied: requests>=2.11.1 in /usr/local/lib/python3.6/dist-packages (from tweepy) (2.23.0)\n",
            "Requirement already satisfied: requests-oauthlib>=0.7.0 in /usr/local/lib/python3.6/dist-packages (from tweepy) (1.3.0)\n",
            "Requirement already satisfied: PySocks>=1.5.7 in /usr/local/lib/python3.6/dist-packages (from tweepy) (1.7.1)\n",
            "Requirement already satisfied: chardet<4,>=3.0.2 in /usr/local/lib/python3.6/dist-packages (from requests>=2.11.1->tweepy) (3.0.4)\n",
            "Requirement already satisfied: idna<3,>=2.5 in /usr/local/lib/python3.6/dist-packages (from requests>=2.11.1->tweepy) (2.10)\n",
            "Requirement already satisfied: certifi>=2017.4.17 in /usr/local/lib/python3.6/dist-packages (from requests>=2.11.1->tweepy) (2020.12.5)\n",
            "Requirement already satisfied: urllib3!=1.25.0,!=1.25.1,<1.26,>=1.21.1 in /usr/local/lib/python3.6/dist-packages (from requests>=2.11.1->tweepy) (1.24.3)\n",
            "Requirement already satisfied: oauthlib>=3.0.0 in /usr/local/lib/python3.6/dist-packages (from requests-oauthlib>=0.7.0->tweepy) (3.1.0)\n",
            "Requirement already satisfied: SQLAlchemy in /usr/local/lib/python3.6/dist-packages (1.3.20)\n"
          ],
          "name": "stdout"
        }
      ]
    },
    {
      "cell_type": "code",
      "metadata": {
        "id": "c8XQX7fqMR14"
      },
      "source": [
        "import pandas as pd\r\n",
        "import json\r\n",
        "import mysql.connector\r\n",
        "import os\r\n",
        "import tweepy as tw\r\n",
        "import pandas as pd\r\n",
        "from datetime import datetime, timedelta\r\n",
        "import numpy as np\r\n",
        "import json\r\n",
        "import matplotlib.pyplot as plt\r\n",
        "import seaborn as sns\r\n",
        "from sqlalchemy import create_engine\r\n",
        "import time"
      ],
      "execution_count": 8,
      "outputs": []
    },
    {
      "cell_type": "code",
      "metadata": {
        "id": "Ea_NF1w9MXCU"
      },
      "source": [
        "def mysql_rds_database_authentication(database_credentials, database=None):\r\n",
        "  \r\n",
        "  if database==None:\r\n",
        "\r\n",
        "    mydb = mysql.connector.connect(\r\n",
        "      host = database_credentials['host'],\r\n",
        "      user = database_credentials['user'],\r\n",
        "      port = database_credentials['port'],\r\n",
        "      password = database_credentials['password']\r\n",
        "    )\r\n",
        "    \r\n",
        "  else:\r\n",
        "    mydb = mysql.connector.connect(\r\n",
        "      host = database_credentials['host'],\r\n",
        "      user = database_credentials['user'],\r\n",
        "      port = database_credentials['port'],\r\n",
        "      password = database_credentials['password'],\r\n",
        "      database = database\r\n",
        "    )\r\n",
        "\r\n",
        "  return mydb"
      ],
      "execution_count": 9,
      "outputs": []
    },
    {
      "cell_type": "code",
      "metadata": {
        "colab": {
          "base_uri": "https://localhost:8080/"
        },
        "id": "g0TCE1H7P4Gw",
        "outputId": "8985e92d-ac49-42e8-b07c-58c9d8c6d518"
      },
      "source": [
        "# olist_customers_dataset.csv\r\n",
        "customers_dataset_url = 'https://raw.githubusercontent.com/olist/work-at-olist-data/master/datasets/olist_customers_dataset.csv'\r\n",
        "customers_dataset = pd.read_csv(customers_dataset_url)\r\n",
        "\r\n",
        "# olist_geolocation_dataset.csv\r\n",
        "geolocation_dataset_url = 'https://raw.githubusercontent.com/olist/work-at-olist-data/master/datasets/olist_geolocation_dataset.csv'\r\n",
        "geolocation_dataset = pd.read_csv(geolocation_dataset_url)\r\n",
        "\r\n",
        "# olist_order_items_dataset.csv\r\n",
        "order_items_dataset_url = 'https://raw.githubusercontent.com/olist/work-at-olist-data/master/datasets/olist_order_items_dataset.csv'\r\n",
        "order_items_dataset = pd.read_csv(order_items_dataset_url)\r\n",
        "\r\n",
        "# olist_order_payments_dataset.csv\r\n",
        "order_payments_dataset_url = 'https://raw.githubusercontent.com/olist/work-at-olist-data/master/datasets/olist_order_payments_dataset.csv'\r\n",
        "order_payments_dataset = pd.read_csv(order_payments_dataset_url)\r\n",
        "\r\n",
        "# olist_order_reviews_dataset.csv\r\n",
        "order_reviews_dataset_url = 'https://raw.githubusercontent.com/olist/work-at-olist-data/master/datasets/olist_order_reviews_dataset.csv'\r\n",
        "order_reviews_dataset = pd.read_csv(order_reviews_dataset_url)\r\n",
        "order_reviews_dataset = order_reviews_dataset.drop(columns=['Unnamed: 7', 'Unnamed: 8', 'Unnamed: 9', 'Unnamed: 10', 'Unnamed: 11', 'Unnamed: 12'])\r\n",
        "\r\n",
        "# olist_orders_dataset.csv\r\n",
        "orders_dataset_url = 'https://raw.githubusercontent.com/olist/work-at-olist-data/master/datasets/olist_orders_dataset.csv'\r\n",
        "orders_dataset = pd.read_csv(orders_dataset_url)\r\n",
        "\r\n",
        "# olist_products_dataset.csv\r\n",
        "products_dataset_url = 'https://raw.githubusercontent.com/olist/work-at-olist-data/master/datasets/olist_products_dataset.csv'\r\n",
        "products_dataset = pd.read_csv(products_dataset_url)\r\n",
        "\r\n",
        "# olist_sellers_dataset.csv\r\n",
        "sellers_dataset_url = 'https://raw.githubusercontent.com/olist/work-at-olist-data/master/datasets/olist_sellers_dataset.csv'\r\n",
        "sellers_dataset = pd.read_csv(sellers_dataset_url)\r\n",
        "\r\n",
        "# product_category_name_translation.csv\r\n",
        "product_category_name_translation_url = 'https://raw.githubusercontent.com/olist/work-at-olist-data/master/datasets/product_category_name_translation.csv'\r\n",
        "product_category_name_translation = pd.read_csv(product_category_name_translation_url)"
      ],
      "execution_count": 44,
      "outputs": [
        {
          "output_type": "stream",
          "text": [
            "/usr/local/lib/python3.6/dist-packages/IPython/core/interactiveshell.py:2718: DtypeWarning: Columns (10,11,12) have mixed types.Specify dtype option on import or set low_memory=False.\n",
            "  interactivity=interactivity, compiler=compiler, result=result)\n"
          ],
          "name": "stderr"
        }
      ]
    },
    {
      "cell_type": "code",
      "metadata": {
        "id": "tUmweBzNM5rS"
      },
      "source": [
        "olist_database_credentials = open(\"mysql_olist_credentials.json\")\r\n",
        "olist_database_credentials = json.load(olist_database_credentials)"
      ],
      "execution_count": 11,
      "outputs": []
    },
    {
      "cell_type": "code",
      "metadata": {
        "colab": {
          "base_uri": "https://localhost:8080/"
        },
        "id": "PHuB1oqEPU6u",
        "outputId": "72d9d017-0e8b-43cc-d969-77129b799daf"
      },
      "source": [
        "connection = mysql_rds_database_authentication(olist_database_credentials)\r\n",
        "\r\n",
        "cursor = connection.cursor()\r\n",
        "cursor.execute(\"\"\"\r\n",
        "  CREATE DATABASE IF NOT EXISTS olist;\r\n",
        "  USE olist;\r\n",
        "\"\"\")\r\n",
        "connection.close()\r\n",
        "\r\n",
        "connection = mysql_rds_database_authentication(olist_database_credentials, 'olist')\r\n",
        "cursor = connection.cursor()\r\n",
        "cursor.execute(\"\"\"\r\n",
        "  show tables;\r\n",
        "\"\"\")\r\n",
        "tables = cursor.fetchall()\r\n",
        "connection.close()\r\n",
        "\r\n",
        "for table in tables:\r\n",
        "  print(table[0])"
      ],
      "execution_count": 12,
      "outputs": [
        {
          "output_type": "stream",
          "text": [
            "customers\n",
            "geolocation\n",
            "geolocation_dataset\n",
            "order_items\n",
            "order_payments\n",
            "order_reviews\n",
            "orders\n",
            "product_category_name_translation\n",
            "products\n",
            "sellers\n"
          ],
          "name": "stdout"
        }
      ]
    },
    {
      "cell_type": "code",
      "metadata": {
        "id": "D6Scr7c6YRJW"
      },
      "source": [
        "# criação das tabelas do banco\r\n",
        "\r\n",
        "connection = mysql_rds_database_authentication(olist_database_credentials, 'olist')\r\n",
        "cursor = connection.cursor()\r\n",
        "\r\n",
        "cursor.execute(\"\"\"\r\n",
        "  CREATE TABLE IF NOT EXISTS customers (\r\n",
        "    customer_id varchar(100) primary key,\r\n",
        "    customer_unique_id varchar(100),\r\n",
        "    customer_zip_code_prefix varchar(50),\r\n",
        "    customer_city varchar(100),\r\n",
        "    customer_state varchar(10)\r\n",
        "  );\r\n",
        "\"\"\")\r\n",
        "\r\n",
        "cursor.execute(\"\"\"\r\n",
        "  CREATE TABLE IF NOT EXISTS geolocation (\r\n",
        "    id_num int not null auto_increment primary key,\r\n",
        "    geolocation_zip_code_prefix varchar(50),\r\n",
        "    geolocation_lat\tfloat,\r\n",
        "    geolocation_lng float,\r\n",
        "    geolocation_city varchar(100),\r\n",
        "    geolocation_state varchar(10)\r\n",
        "  );\r\n",
        "\"\"\")\r\n",
        "\r\n",
        "cursor.execute(\"\"\"\r\n",
        "  CREATE TABLE IF NOT EXISTS order_items (\r\n",
        "    id_num int auto_increment primary key,\r\n",
        "    order_id varchar(100),\r\n",
        "    order_item_id\tint,\r\n",
        "    product_id varchar(100),\r\n",
        "    seller_id varchar(100),\r\n",
        "    shipping_limit_date datetime,\r\n",
        "    price float,\r\n",
        "    freight_value float\r\n",
        "  );\r\n",
        "\"\"\")\r\n",
        "\r\n",
        "cursor.execute(\"\"\"\r\n",
        "  CREATE TABLE IF NOT EXISTS order_payments (\r\n",
        "    id_num int auto_increment primary key,\r\n",
        "    order_id varchar(100),\r\n",
        "    payment_sequential\tint,\r\n",
        "    payment_type varchar(100),\r\n",
        "    payment_installments varchar(100),\r\n",
        "    payment_value datetime\r\n",
        "  );\r\n",
        "\"\"\")\r\n",
        "\r\n",
        "cursor.execute(\"\"\"\r\n",
        "  CREATE TABLE IF NOT EXISTS order_reviews (\r\n",
        "    id_num int auto_increment primary key,\r\n",
        "    review_id varchar(100),\r\n",
        "    order_id\tvarchar(100),\r\n",
        "    review_score float,\r\n",
        "    review_comment_title varchar(100),\r\n",
        "    review_comment_message varchar(255),\r\n",
        "    review_creation_date datetime,\r\n",
        "    review_answer_timestamp datetime\r\n",
        "  );\r\n",
        "\"\"\")\r\n",
        "\r\n",
        "cursor.execute(\"\"\"\r\n",
        "  CREATE TABLE IF NOT EXISTS order_reviews (\r\n",
        "    review_id varchar(100) primary key,\r\n",
        "    order_id\tvarchar(100),\r\n",
        "    review_score float,\r\n",
        "    review_comment_title varchar(100),\r\n",
        "    review_comment_message varchar(255),\r\n",
        "    review_creation_date datetime,\r\n",
        "    review_answer_timestamp datetime\r\n",
        "  );\r\n",
        "\"\"\")\r\n",
        "\r\n",
        "cursor.execute(\"\"\"\r\n",
        "  CREATE TABLE IF NOT EXISTS orders (\r\n",
        "    order_id varchar(100) primary key,\r\n",
        "    customer_id\tvarchar(100),\r\n",
        "    order_status varchar(100),\r\n",
        "    order_purchase_timestamp datetime,\r\n",
        "    order_approved_at datetime,\r\n",
        "    order_delivered_carrier_date datetime,\r\n",
        "    order_delivered_customer_date datetime,\r\n",
        "    order_estimated_delivery_date datetime\r\n",
        "  );\r\n",
        "\"\"\")\r\n",
        "\r\n",
        "cursor.execute(\"\"\"\r\n",
        "  CREATE TABLE IF NOT EXISTS products (\r\n",
        "    product_id varchar(100) primary key,\r\n",
        "    product_category_name\tvarchar(100),\r\n",
        "    product_name_lenght int,\r\n",
        "    product_description_lenght int,\r\n",
        "    product_photos_qty float,\r\n",
        "    product_weight_g float,\r\n",
        "    product_length_cm float,\r\n",
        "    product_height_cm float,\r\n",
        "    product_width_cm float\r\n",
        "  );\r\n",
        "\"\"\")\r\n",
        "\r\n",
        "cursor.execute(\"\"\"\r\n",
        "  CREATE TABLE IF NOT EXISTS sellers (\r\n",
        "    seller_id varchar(100) primary key,\r\n",
        "    seller_zip_code_prefix varchar(50),\r\n",
        "    seller_city varchar(100),\r\n",
        "    seller_state varchar(10)\r\n",
        "  );\r\n",
        "\"\"\")\r\n",
        "\r\n",
        "cursor.execute(\"\"\"\r\n",
        "  CREATE TABLE IF NOT EXISTS product_category_name_translation (\r\n",
        "    product_category_name varchar(100) primary key,\r\n",
        "    product_category_name_english varchar(100)\r\n",
        "  );\r\n",
        "\"\"\")"
      ],
      "execution_count": 51,
      "outputs": []
    },
    {
      "cell_type": "code",
      "metadata": {
        "colab": {
          "base_uri": "https://localhost:8080/"
        },
        "id": "G4UuvKab0E1y",
        "outputId": "25102aec-4ad7-4bf4-dfce-b1a751ffc6b9"
      },
      "source": [
        "connection = mysql_rds_database_authentication(olist_database_credentials, 'olist')\r\n",
        "cursor = connection.cursor()\r\n",
        "cursor.execute(\"\"\"\r\n",
        "  show tables;\r\n",
        "\"\"\")\r\n",
        "tables = cursor.fetchall()\r\n",
        "connection.close()\r\n",
        "\r\n",
        "for table in tables:\r\n",
        "  print(table[0])"
      ],
      "execution_count": 14,
      "outputs": [
        {
          "output_type": "stream",
          "text": [
            "customers\n",
            "geolocation\n",
            "geolocation_dataset\n",
            "order_items\n",
            "order_payments\n",
            "order_reviews\n",
            "orders\n",
            "product_category_name_translation\n",
            "products\n",
            "sellers\n"
          ],
          "name": "stdout"
        }
      ]
    },
    {
      "cell_type": "code",
      "metadata": {
        "id": "T-DNJrLC2vnT"
      },
      "source": [
        "def drop_table(table):\r\n",
        "  connection = mysql_rds_database_authentication(olist_database_credentials, 'olist')\r\n",
        "  cursor = connection.cursor()\r\n",
        "  cursor.execute(f\"\"\"\r\n",
        "    drop table {table};\r\n",
        "  \"\"\")\r\n",
        "\r\n",
        "  connection.commit()\r\n",
        "  connection.close()\r\n",
        "\r\n",
        "  return f'table {table} successfully removed'\r\n",
        "\r\n",
        "\r\n",
        "def clear_table(table):\r\n",
        "  connection = mysql_rds_database_authentication(olist_database_credentials, 'olist')\r\n",
        "  cursor = connection.cursor()\r\n",
        "  cursor.execute(f\"\"\"\r\n",
        "    delete from {table};\r\n",
        "  \"\"\")\r\n",
        "  \r\n",
        "  connection.commit()\r\n",
        "  connection.close()\r\n",
        "\r\n",
        "  return f'table {table} successfully cleaned'\r\n",
        "  \r\n",
        "\r\n",
        "def query_database(query):\r\n",
        "  connection = mysql_rds_database_authentication(olist_database_credentials, 'olist')\r\n",
        "  dataframe = pd.read_sql(query, con=connection)\r\n",
        "  connection.close()\r\n",
        "\r\n",
        "  return dataframe\r\n",
        "\r\n",
        "\r\n",
        "def mysql_bulk_insert_dataframe(new_data, table, primary_key, mysql_credentials, verbose=False):\r\n",
        "  \r\n",
        "  try:\r\n",
        "    user = mysql_credentials['user']\r\n",
        "    password = mysql_credentials['password']\r\n",
        "    host = mysql_credentials['host']\r\n",
        "    port = mysql_credentials['port']\r\n",
        "    database = 'olist'\r\n",
        "\r\n",
        "    engine = create_engine(f\"mysql+mysqlconnector://{user}:{password}@{host}:{port}/{database}?charset=utf8mb4\")\r\n",
        "    database_persisted_primarykeys = pd.read_sql(f'select {primary_key} from {table}', con=engine)\r\n",
        "    new_filtered_data = new_data[new_data[primary_key].isin(database_persisted_primarykeys[primary_key]) == False]\r\n",
        "\r\n",
        "    batch_size = 100000\r\n",
        "    n_batches = int(np.ceil(new_filtered_data.shape[0] / batch_size))\r\n",
        "\r\n",
        "    for i in range(n_batches):\r\n",
        "      if i == n_batches - 1:\r\n",
        "        \r\n",
        "        first = batch_size * i\r\n",
        "        last = new_filtered_data.shape[0]\r\n",
        "        \r\n",
        "      \r\n",
        "      else:\r\n",
        "\r\n",
        "        first = batch_size * i\r\n",
        "        last = batch_size * (i + 1)\r\n",
        "      \r\n",
        "      new_filtered_data.iloc[first: last].to_sql(table, con=engine, if_exists='append', index=False)\r\n",
        "\r\n",
        "      if verbose == True:\r\n",
        "        print(f'batch {i+1} successfully inserted on table: {table}')\r\n",
        "\r\n",
        "      time.sleep(2)\r\n",
        "\r\n",
        "\r\n",
        "    if verbose == True:\r\n",
        "      return f'Successfully inserted {new_filtered_data.shape[0]} rows on {table}'\r\n",
        "\r\n",
        "  except Exception as e:\r\n",
        "    if verbose == True:\r\n",
        "      return f'An error has occurred: {e} => {table}'"
      ],
      "execution_count": 33,
      "outputs": []
    },
    {
      "cell_type": "code",
      "metadata": {
        "colab": {
          "base_uri": "https://localhost:8080/",
          "height": 52
        },
        "id": "GZH7GkVxzQUV",
        "outputId": "42bebd50-0b97-417e-e24e-a28353f97c70"
      },
      "source": [
        "# customers\r\n",
        "clear_table('customers')\r\n",
        "mysql_bulk_insert_dataframe(customers_dataset, 'customers', 'customer_id', olist_database_credentials, verbose=True)"
      ],
      "execution_count": 75,
      "outputs": [
        {
          "output_type": "stream",
          "text": [
            "batch 1 successfully inserted on table: customers\n"
          ],
          "name": "stdout"
        },
        {
          "output_type": "execute_result",
          "data": {
            "application/vnd.google.colaboratory.intrinsic+json": {
              "type": "string"
            },
            "text/plain": [
              "'Successfully inserted 99441 rows on customers'"
            ]
          },
          "metadata": {
            "tags": []
          },
          "execution_count": 75
        }
      ]
    },
    {
      "cell_type": "code",
      "metadata": {
        "colab": {
          "base_uri": "https://localhost:8080/",
          "height": 225
        },
        "id": "XTz_pP4zzlQZ",
        "outputId": "d7ac684d-9d7e-4e3b-ade1-e151684da481"
      },
      "source": [
        "# geolocation\r\n",
        "clear_table('geolocation')\r\n",
        "mysql_bulk_insert_dataframe(geolocation_dataset, 'geolocation', 'geolocation_zip_code_prefix', olist_database_credentials, verbose=True)"
      ],
      "execution_count": 76,
      "outputs": [
        {
          "output_type": "stream",
          "text": [
            "batch 1 successfully inserted on table: geolocation\n",
            "batch 2 successfully inserted on table: geolocation\n",
            "batch 3 successfully inserted on table: geolocation\n",
            "batch 4 successfully inserted on table: geolocation\n",
            "batch 5 successfully inserted on table: geolocation\n",
            "batch 6 successfully inserted on table: geolocation\n",
            "batch 7 successfully inserted on table: geolocation\n",
            "batch 8 successfully inserted on table: geolocation\n",
            "batch 9 successfully inserted on table: geolocation\n",
            "batch 10 successfully inserted on table: geolocation\n",
            "batch 11 successfully inserted on table: geolocation\n"
          ],
          "name": "stdout"
        },
        {
          "output_type": "execute_result",
          "data": {
            "application/vnd.google.colaboratory.intrinsic+json": {
              "type": "string"
            },
            "text/plain": [
              "'Successfully inserted 1000163 rows on geolocation'"
            ]
          },
          "metadata": {
            "tags": []
          },
          "execution_count": 76
        }
      ]
    },
    {
      "cell_type": "code",
      "metadata": {
        "colab": {
          "base_uri": "https://localhost:8080/",
          "height": 69
        },
        "id": "izGsmAyhzmse",
        "outputId": "c1502eb0-9167-4022-81d6-c51d8b2cfbdd"
      },
      "source": [
        "# order_items\r\n",
        "clear_table('order_items')\r\n",
        "mysql_bulk_insert_dataframe(order_items_dataset, 'order_items', 'order_id', olist_database_credentials, verbose=True)"
      ],
      "execution_count": 77,
      "outputs": [
        {
          "output_type": "stream",
          "text": [
            "batch 1 successfully inserted on table: order_items\n",
            "batch 2 successfully inserted on table: order_items\n"
          ],
          "name": "stdout"
        },
        {
          "output_type": "execute_result",
          "data": {
            "application/vnd.google.colaboratory.intrinsic+json": {
              "type": "string"
            },
            "text/plain": [
              "'Successfully inserted 112650 rows on order_items'"
            ]
          },
          "metadata": {
            "tags": []
          },
          "execution_count": 77
        }
      ]
    },
    {
      "cell_type": "code",
      "metadata": {
        "colab": {
          "base_uri": "https://localhost:8080/",
          "height": 69
        },
        "id": "QUcUEdYHzoG2",
        "outputId": "9030cd02-15ff-423a-8830-a6d32c71d830"
      },
      "source": [
        "# order_payments\r\n",
        "clear_table('order_payments')\r\n",
        "mysql_bulk_insert_dataframe(order_payments_dataset, 'order_payments', 'order_id', olist_database_credentials, verbose=True)"
      ],
      "execution_count": 78,
      "outputs": [
        {
          "output_type": "stream",
          "text": [
            "batch 1 successfully inserted on table: order_payments\n",
            "batch 2 successfully inserted on table: order_payments\n"
          ],
          "name": "stdout"
        },
        {
          "output_type": "execute_result",
          "data": {
            "application/vnd.google.colaboratory.intrinsic+json": {
              "type": "string"
            },
            "text/plain": [
              "'Successfully inserted 103886 rows on order_payments'"
            ]
          },
          "metadata": {
            "tags": []
          },
          "execution_count": 78
        }
      ]
    },
    {
      "cell_type": "code",
      "metadata": {
        "colab": {
          "base_uri": "https://localhost:8080/",
          "height": 52
        },
        "id": "_pvWZWDWzpDG",
        "outputId": "6552fd92-b12e-4c79-f86a-10127470ecf4"
      },
      "source": [
        "# order_reviews\r\n",
        "clear_table('order_reviews')\r\n",
        "mysql_bulk_insert_dataframe(order_reviews_dataset, 'order_reviews', 'review_id', olist_database_credentials, verbose=True)"
      ],
      "execution_count": 79,
      "outputs": [
        {
          "output_type": "stream",
          "text": [
            "batch 1 successfully inserted on table: order_reviews\n"
          ],
          "name": "stdout"
        },
        {
          "output_type": "execute_result",
          "data": {
            "application/vnd.google.colaboratory.intrinsic+json": {
              "type": "string"
            },
            "text/plain": [
              "'Successfully inserted 100000 rows on order_reviews'"
            ]
          },
          "metadata": {
            "tags": []
          },
          "execution_count": 79
        }
      ]
    },
    {
      "cell_type": "code",
      "metadata": {
        "colab": {
          "base_uri": "https://localhost:8080/",
          "height": 52
        },
        "id": "DtKBbvwGzqez",
        "outputId": "b6ef747d-8835-493a-d08e-a4be8d87613b"
      },
      "source": [
        "# orders\r\n",
        "clear_table('orders')\r\n",
        "mysql_bulk_insert_dataframe(orders_dataset, 'orders', 'order_id', olist_database_credentials, verbose=True)"
      ],
      "execution_count": 80,
      "outputs": [
        {
          "output_type": "stream",
          "text": [
            "batch 1 successfully inserted on table: orders\n"
          ],
          "name": "stdout"
        },
        {
          "output_type": "execute_result",
          "data": {
            "application/vnd.google.colaboratory.intrinsic+json": {
              "type": "string"
            },
            "text/plain": [
              "'Successfully inserted 99441 rows on orders'"
            ]
          },
          "metadata": {
            "tags": []
          },
          "execution_count": 80
        }
      ]
    },
    {
      "cell_type": "code",
      "metadata": {
        "colab": {
          "base_uri": "https://localhost:8080/",
          "height": 52
        },
        "id": "YWJNb7H-zseB",
        "outputId": "037c50cd-f77d-41ec-dacb-6a8185fd2c86"
      },
      "source": [
        "# products\r\n",
        "clear_table('products')\r\n",
        "mysql_bulk_insert_dataframe(products_dataset, 'products', 'product_id', olist_database_credentials, verbose=True)"
      ],
      "execution_count": 81,
      "outputs": [
        {
          "output_type": "stream",
          "text": [
            "batch 1 successfully inserted on table: products\n"
          ],
          "name": "stdout"
        },
        {
          "output_type": "execute_result",
          "data": {
            "application/vnd.google.colaboratory.intrinsic+json": {
              "type": "string"
            },
            "text/plain": [
              "'Successfully inserted 32951 rows on products'"
            ]
          },
          "metadata": {
            "tags": []
          },
          "execution_count": 81
        }
      ]
    },
    {
      "cell_type": "code",
      "metadata": {
        "colab": {
          "base_uri": "https://localhost:8080/",
          "height": 52
        },
        "id": "cZJMLgcIztG7",
        "outputId": "c362aed5-85ab-466d-b570-61b823312695"
      },
      "source": [
        "# sellers\r\n",
        "clear_table('sellers')\r\n",
        "mysql_bulk_insert_dataframe(sellers_dataset, 'sellers', 'seller_id', olist_database_credentials, verbose=True)"
      ],
      "execution_count": 82,
      "outputs": [
        {
          "output_type": "stream",
          "text": [
            "batch 1 successfully inserted on table: sellers\n"
          ],
          "name": "stdout"
        },
        {
          "output_type": "execute_result",
          "data": {
            "application/vnd.google.colaboratory.intrinsic+json": {
              "type": "string"
            },
            "text/plain": [
              "'Successfully inserted 3095 rows on sellers'"
            ]
          },
          "metadata": {
            "tags": []
          },
          "execution_count": 82
        }
      ]
    },
    {
      "cell_type": "code",
      "metadata": {
        "colab": {
          "base_uri": "https://localhost:8080/",
          "height": 52
        },
        "id": "JELUP_kRzv0X",
        "outputId": "e13da01a-14b7-49d8-c2bd-4929e61677c3"
      },
      "source": [
        "# product_category_name_translation\r\n",
        "clear_table('product_category_name_translation')\r\n",
        "mysql_bulk_insert_dataframe(product_category_name_translation, 'product_category_name_translation', 'product_category_name', olist_database_credentials, verbose=True)"
      ],
      "execution_count": 83,
      "outputs": [
        {
          "output_type": "stream",
          "text": [
            "batch 1 successfully inserted on table: product_category_name_translation\n"
          ],
          "name": "stdout"
        },
        {
          "output_type": "execute_result",
          "data": {
            "application/vnd.google.colaboratory.intrinsic+json": {
              "type": "string"
            },
            "text/plain": [
              "'Successfully inserted 71 rows on product_category_name_translation'"
            ]
          },
          "metadata": {
            "tags": []
          },
          "execution_count": 83
        }
      ]
    },
    {
      "cell_type": "code",
      "metadata": {
        "colab": {
          "base_uri": "https://localhost:8080/",
          "height": 416
        },
        "id": "5Q7G6Ec_wsFL",
        "outputId": "1401769b-60e6-495f-db58-5f3980475630"
      },
      "source": [
        "query_database('select * from customers')"
      ],
      "execution_count": 74,
      "outputs": [
        {
          "output_type": "execute_result",
          "data": {
            "text/html": [
              "<div>\n",
              "<style scoped>\n",
              "    .dataframe tbody tr th:only-of-type {\n",
              "        vertical-align: middle;\n",
              "    }\n",
              "\n",
              "    .dataframe tbody tr th {\n",
              "        vertical-align: top;\n",
              "    }\n",
              "\n",
              "    .dataframe thead th {\n",
              "        text-align: right;\n",
              "    }\n",
              "</style>\n",
              "<table border=\"1\" class=\"dataframe\">\n",
              "  <thead>\n",
              "    <tr style=\"text-align: right;\">\n",
              "      <th></th>\n",
              "      <th>customer_id</th>\n",
              "      <th>customer_unique_id</th>\n",
              "      <th>customer_zip_code_prefix</th>\n",
              "      <th>customer_city</th>\n",
              "      <th>customer_state</th>\n",
              "    </tr>\n",
              "  </thead>\n",
              "  <tbody>\n",
              "    <tr>\n",
              "      <th>0</th>\n",
              "      <td>06b8999e2fba1a1fbc88172c00ba8bc7</td>\n",
              "      <td>861eff4711a542e4b93843c6dd7febb0</td>\n",
              "      <td>14409</td>\n",
              "      <td>franca</td>\n",
              "      <td>SP</td>\n",
              "    </tr>\n",
              "    <tr>\n",
              "      <th>1</th>\n",
              "      <td>18955e83d337fd6b2def6b18a428ac77</td>\n",
              "      <td>290c77bc529b7ac935b93aa66c333dc3</td>\n",
              "      <td>9790</td>\n",
              "      <td>sao bernardo do campo</td>\n",
              "      <td>SP</td>\n",
              "    </tr>\n",
              "    <tr>\n",
              "      <th>2</th>\n",
              "      <td>4e7b3e00288586ebd08712fdd0374a03</td>\n",
              "      <td>060e732b5b29e8181a18229c7b0b2b5e</td>\n",
              "      <td>1151</td>\n",
              "      <td>sao paulo</td>\n",
              "      <td>SP</td>\n",
              "    </tr>\n",
              "    <tr>\n",
              "      <th>3</th>\n",
              "      <td>b2b6027bc5c5109e529d4dc6358b12c3</td>\n",
              "      <td>259dac757896d24d7702b9acbbff3f3c</td>\n",
              "      <td>8775</td>\n",
              "      <td>mogi das cruzes</td>\n",
              "      <td>SP</td>\n",
              "    </tr>\n",
              "    <tr>\n",
              "      <th>4</th>\n",
              "      <td>4f2d8ab171c80ec8364f7c12e35b23ad</td>\n",
              "      <td>345ecd01c38d18a9036ed96c73b8d066</td>\n",
              "      <td>13056</td>\n",
              "      <td>campinas</td>\n",
              "      <td>SP</td>\n",
              "    </tr>\n",
              "    <tr>\n",
              "      <th>...</th>\n",
              "      <td>...</td>\n",
              "      <td>...</td>\n",
              "      <td>...</td>\n",
              "      <td>...</td>\n",
              "      <td>...</td>\n",
              "    </tr>\n",
              "    <tr>\n",
              "      <th>99436</th>\n",
              "      <td>17ddf5dd5d51696bb3d7c6291687be6f</td>\n",
              "      <td>1a29b476fee25c95fbafc67c5ac95cf8</td>\n",
              "      <td>3937</td>\n",
              "      <td>sao paulo</td>\n",
              "      <td>SP</td>\n",
              "    </tr>\n",
              "    <tr>\n",
              "      <th>99437</th>\n",
              "      <td>e7b71a9017aa05c9a7fd292d714858e8</td>\n",
              "      <td>d52a67c98be1cf6a5c84435bd38d095d</td>\n",
              "      <td>6764</td>\n",
              "      <td>taboao da serra</td>\n",
              "      <td>SP</td>\n",
              "    </tr>\n",
              "    <tr>\n",
              "      <th>99438</th>\n",
              "      <td>5e28dfe12db7fb50a4b2f691faecea5e</td>\n",
              "      <td>e9f50caf99f032f0bf3c55141f019d99</td>\n",
              "      <td>60115</td>\n",
              "      <td>fortaleza</td>\n",
              "      <td>CE</td>\n",
              "    </tr>\n",
              "    <tr>\n",
              "      <th>99439</th>\n",
              "      <td>56b18e2166679b8a959d72dd06da27f9</td>\n",
              "      <td>73c2643a0a458b49f58cea58833b192e</td>\n",
              "      <td>92120</td>\n",
              "      <td>canoas</td>\n",
              "      <td>RS</td>\n",
              "    </tr>\n",
              "    <tr>\n",
              "      <th>99440</th>\n",
              "      <td>274fa6071e5e17fe303b9748641082c8</td>\n",
              "      <td>84732c5050c01db9b23e19ba39899398</td>\n",
              "      <td>6703</td>\n",
              "      <td>cotia</td>\n",
              "      <td>SP</td>\n",
              "    </tr>\n",
              "  </tbody>\n",
              "</table>\n",
              "<p>99441 rows × 5 columns</p>\n",
              "</div>"
            ],
            "text/plain": [
              "                            customer_id  ... customer_state\n",
              "0      06b8999e2fba1a1fbc88172c00ba8bc7  ...             SP\n",
              "1      18955e83d337fd6b2def6b18a428ac77  ...             SP\n",
              "2      4e7b3e00288586ebd08712fdd0374a03  ...             SP\n",
              "3      b2b6027bc5c5109e529d4dc6358b12c3  ...             SP\n",
              "4      4f2d8ab171c80ec8364f7c12e35b23ad  ...             SP\n",
              "...                                 ...  ...            ...\n",
              "99436  17ddf5dd5d51696bb3d7c6291687be6f  ...             SP\n",
              "99437  e7b71a9017aa05c9a7fd292d714858e8  ...             SP\n",
              "99438  5e28dfe12db7fb50a4b2f691faecea5e  ...             CE\n",
              "99439  56b18e2166679b8a959d72dd06da27f9  ...             RS\n",
              "99440  274fa6071e5e17fe303b9748641082c8  ...             SP\n",
              "\n",
              "[99441 rows x 5 columns]"
            ]
          },
          "metadata": {
            "tags": []
          },
          "execution_count": 74
        }
      ]
    }
  ]
}